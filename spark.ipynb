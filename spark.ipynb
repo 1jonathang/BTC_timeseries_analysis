{
 "cells": [
  {
   "cell_type": "code",
   "execution_count": 1,
   "metadata": {},
   "outputs": [],
   "source": [
    "import pyspark\n",
    "from pyspark.sql import SparkSession\n",
    "from pyspark.sql.functions import from_unixtime, col, to_timestamp\n",
    "from pyspark.ml.feature import VectorAssembler, StandardScaler"
   ]
  },
  {
   "cell_type": "code",
   "execution_count": 2,
   "metadata": {},
   "outputs": [],
   "source": [
    "import pandas as pd"
   ]
  },
  {
   "cell_type": "code",
   "execution_count": 3,
   "metadata": {},
   "outputs": [],
   "source": [
    "spark = SparkSession.builder.appName(\"COMP4107\").master(\"local[*]\").getOrCreate()"
   ]
  },
  {
   "cell_type": "code",
   "execution_count": 4,
   "metadata": {},
   "outputs": [
    {
     "data": {
      "text/html": [
       "<div>\n",
       "<style scoped>\n",
       "    .dataframe tbody tr th:only-of-type {\n",
       "        vertical-align: middle;\n",
       "    }\n",
       "\n",
       "    .dataframe tbody tr th {\n",
       "        vertical-align: top;\n",
       "    }\n",
       "\n",
       "    .dataframe thead th {\n",
       "        text-align: right;\n",
       "    }\n",
       "</style>\n",
       "<table border=\"1\" class=\"dataframe\">\n",
       "  <thead>\n",
       "    <tr style=\"text-align: right;\">\n",
       "      <th></th>\n",
       "      <th>Timestamp</th>\n",
       "      <th>Open</th>\n",
       "      <th>High</th>\n",
       "      <th>Low</th>\n",
       "      <th>Close</th>\n",
       "      <th>Volume</th>\n",
       "    </tr>\n",
       "  </thead>\n",
       "  <tbody>\n",
       "    <tr>\n",
       "      <th>0</th>\n",
       "      <td>1.325412e+09</td>\n",
       "      <td>4.58</td>\n",
       "      <td>4.58</td>\n",
       "      <td>4.58</td>\n",
       "      <td>4.58</td>\n",
       "      <td>0.0</td>\n",
       "    </tr>\n",
       "    <tr>\n",
       "      <th>1</th>\n",
       "      <td>1.325412e+09</td>\n",
       "      <td>4.58</td>\n",
       "      <td>4.58</td>\n",
       "      <td>4.58</td>\n",
       "      <td>4.58</td>\n",
       "      <td>0.0</td>\n",
       "    </tr>\n",
       "    <tr>\n",
       "      <th>2</th>\n",
       "      <td>1.325412e+09</td>\n",
       "      <td>4.58</td>\n",
       "      <td>4.58</td>\n",
       "      <td>4.58</td>\n",
       "      <td>4.58</td>\n",
       "      <td>0.0</td>\n",
       "    </tr>\n",
       "    <tr>\n",
       "      <th>3</th>\n",
       "      <td>1.325412e+09</td>\n",
       "      <td>4.58</td>\n",
       "      <td>4.58</td>\n",
       "      <td>4.58</td>\n",
       "      <td>4.58</td>\n",
       "      <td>0.0</td>\n",
       "    </tr>\n",
       "    <tr>\n",
       "      <th>4</th>\n",
       "      <td>1.325412e+09</td>\n",
       "      <td>4.58</td>\n",
       "      <td>4.58</td>\n",
       "      <td>4.58</td>\n",
       "      <td>4.58</td>\n",
       "      <td>0.0</td>\n",
       "    </tr>\n",
       "  </tbody>\n",
       "</table>\n",
       "</div>"
      ],
      "text/plain": [
       "      Timestamp  Open  High   Low  Close  Volume\n",
       "0  1.325412e+09  4.58  4.58  4.58   4.58     0.0\n",
       "1  1.325412e+09  4.58  4.58  4.58   4.58     0.0\n",
       "2  1.325412e+09  4.58  4.58  4.58   4.58     0.0\n",
       "3  1.325412e+09  4.58  4.58  4.58   4.58     0.0\n",
       "4  1.325412e+09  4.58  4.58  4.58   4.58     0.0"
      ]
     },
     "execution_count": 4,
     "metadata": {},
     "output_type": "execute_result"
    }
   ],
   "source": [
    "df = pd.read_csv('data/btcusd_1-min_data.csv')\n",
    "df.head()"
   ]
  },
  {
   "cell_type": "markdown",
   "metadata": {},
   "source": [
    "- `VectorAssembler` merges feature into one vector: `[open, high, low, close, volume]`\n",
    "    - LSTMs expect input to be multi-dimensional as a tensor with shape: $$ \\text{(batch\\_size, sequence\\_length, feature\\_dimension)} $$\n",
    "    - `feature_dimension` corresponds to the number of features, 5 in this case\n",
    "- model will learn different weights for each dimension, allowing it to understand the relationship between features"
   ]
  },
  {
   "cell_type": "code",
   "execution_count": 5,
   "metadata": {},
   "outputs": [],
   "source": [
    "def load_and_preprocess_data(filepath: str):\n",
    "    # loading data into pyspark dataframe\n",
    "    df = spark.read.csv(filepath, header=True, inferSchema=True)\n",
    "    # converting the UNIX timestamp to proper datetime format\n",
    "    df = df.withColumn(\"datetime\", to_timestamp(from_unixtime(col(\"Timestamp\"))))\n",
    "    df.drop(\"Timestamp\")\n",
    "    # sorting to maintain time order\n",
    "    df = df.orderBy(\"datetime\")\n",
    "    # handling missing values\n",
    "    df = df.na.fill(0)\n",
    "    df = df.filter(col(\"datetime\").isNotNull())\n",
    "    \n",
    "    # feature assembly and scaling\n",
    "        # combining cols into one feature vector, needed for spark ML\n",
    "    feature_cols = [\"Open\", \"High\", \"Low\", \"Close\", \"Volume\"]\n",
    "    assembler = VectorAssembler(inputCols=feature_cols, outputCol=\"features\")\n",
    "    df = assembler.transform(df)\n",
    "        # scaling features for zero mean and unit variance\n",
    "    scaler = StandardScaler(inputCol=\"features\", outputCol=\"scaledFeatures\", withMean=True, withStd=True)\n",
    "    # analyzes `features` in `df` and computes the std deviation and mean for each feature\n",
    "    scalerModel = scaler.fit(df)\n",
    "    # applying the scaling transformation to the data using the statistics from the last line\n",
    "    df = scalerModel.transform(df)\n",
    "    \n",
    "    preprocessed_df = df.select(\"datetime\", \"scaledFeatures\")\n",
    "    return preprocessed_df\n",
    "    \n",
    "    "
   ]
  },
  {
   "cell_type": "code",
   "execution_count": 6,
   "metadata": {},
   "outputs": [],
   "source": [
    "df = load_and_preprocess_data('data/btcusd_1-min_data.csv')"
   ]
  },
  {
   "cell_type": "code",
   "execution_count": 7,
   "metadata": {},
   "outputs": [
    {
     "name": "stdout",
     "output_type": "stream",
     "text": [
      "+-------------------+--------------------+\n",
      "|           datetime|      scaledFeatures|\n",
      "+-------------------+--------------------+\n",
      "|2012-01-01 05:01:00|[-0.7298777848017...|\n",
      "|2012-01-01 05:02:00|[-0.7298777848017...|\n",
      "|2012-01-01 05:03:00|[-0.7298777848017...|\n",
      "|2012-01-01 05:04:00|[-0.7298777848017...|\n",
      "|2012-01-01 05:05:00|[-0.7298777848017...|\n",
      "|2012-01-01 05:06:00|[-0.7298777848017...|\n",
      "|2012-01-01 05:07:00|[-0.7298777848017...|\n",
      "|2012-01-01 05:08:00|[-0.7298777848017...|\n",
      "|2012-01-01 05:09:00|[-0.7298777848017...|\n",
      "|2012-01-01 05:10:00|[-0.7298777848017...|\n",
      "|2012-01-01 05:11:00|[-0.7298777848017...|\n",
      "|2012-01-01 05:12:00|[-0.7298777848017...|\n",
      "|2012-01-01 05:13:00|[-0.7298777848017...|\n",
      "|2012-01-01 05:14:00|[-0.7298777848017...|\n",
      "|2012-01-01 05:15:00|[-0.7298777848017...|\n",
      "|2012-01-01 05:16:00|[-0.7298777848017...|\n",
      "|2012-01-01 05:17:00|[-0.7298777848017...|\n",
      "|2012-01-01 05:18:00|[-0.7298777848017...|\n",
      "|2012-01-01 05:19:00|[-0.7298777848017...|\n",
      "|2012-01-01 05:20:00|[-0.7298777848017...|\n",
      "+-------------------+--------------------+\n",
      "only showing top 20 rows\n",
      "\n"
     ]
    }
   ],
   "source": [
    "df.show()"
   ]
  }
 ],
 "metadata": {
  "kernelspec": {
   "display_name": "penis",
   "language": "python",
   "name": "python3"
  },
  "language_info": {
   "codemirror_mode": {
    "name": "ipython",
    "version": 3
   },
   "file_extension": ".py",
   "mimetype": "text/x-python",
   "name": "python",
   "nbconvert_exporter": "python",
   "pygments_lexer": "ipython3",
   "version": "3.12.7"
  }
 },
 "nbformat": 4,
 "nbformat_minor": 2
}
