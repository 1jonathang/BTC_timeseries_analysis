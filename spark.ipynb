{
 "cells": [
  {
   "cell_type": "code",
   "execution_count": 1,
   "metadata": {},
   "outputs": [],
   "source": [
    "import pyspark\n",
    "from pyspark.sql import SparkSession"
   ]
  },
  {
   "cell_type": "code",
   "execution_count": 2,
   "metadata": {},
   "outputs": [],
   "source": [
    "spark = SparkSession.builder.appName(\"COMP4107\").master(\"local[*]\").getOrCreate()"
   ]
  },
  {
   "cell_type": "code",
   "execution_count": 3,
   "metadata": {},
   "outputs": [],
   "source": [
    "df = spark.read.csv(\"data/btcusd_1-min_data.csv\", header=True, inferSchema=True)\n",
    "df_filtered = df.filter(df[\"high\"] > 5)"
   ]
  },
  {
   "cell_type": "code",
   "execution_count": 4,
   "metadata": {},
   "outputs": [
    {
     "name": "stdout",
     "output_type": "stream",
     "text": [
      "+------------+----+----+----+-----+----------+\n",
      "|   Timestamp|Open|High| Low|Close|    Volume|\n",
      "+------------+----+----+----+-----+----------+\n",
      "| 1.3256091E9|5.32|5.32|5.32| 5.32|2.41917293|\n",
      "|1.32560916E9|5.32|5.32|5.32| 5.32|       0.0|\n",
      "|1.32560922E9|5.32|5.32|5.32| 5.32|       0.0|\n",
      "|1.32560928E9|5.32|5.32|5.32| 5.32|       0.0|\n",
      "|1.32560934E9|5.32|5.32|5.32| 5.32|       0.0|\n",
      "| 1.3256094E9|5.32|5.32|5.32| 5.32|       0.0|\n",
      "|1.32560946E9|5.32|5.32|5.32| 5.32|       0.0|\n",
      "|1.32560952E9|5.32|5.32|5.32| 5.32|       0.0|\n",
      "|1.32560958E9|5.32|5.32|5.32| 5.32|       0.0|\n",
      "|1.32560964E9|5.32|5.32|5.32| 5.32|       0.0|\n",
      "| 1.3256097E9|5.32|5.32|5.32| 5.32|       0.0|\n",
      "|1.32560976E9|5.32|5.32|5.32| 5.32|       0.0|\n",
      "|1.32560982E9|5.32|5.32|5.32| 5.32|       0.0|\n",
      "|1.32560988E9|5.32|5.32|5.32| 5.32|       0.0|\n",
      "|1.32560994E9|5.32|5.32|5.32| 5.32|       0.0|\n",
      "|   1.32561E9|5.32|5.32|5.32| 5.32|       0.0|\n",
      "|1.32561006E9|5.32|5.32|5.32| 5.32|       0.0|\n",
      "|1.32561012E9|5.32|5.32|5.32| 5.32|       0.0|\n",
      "|1.32561018E9|5.32|5.32|5.32| 5.32|       0.0|\n",
      "|1.32561024E9|5.32|5.32|5.32| 5.32|       0.0|\n",
      "+------------+----+----+----+-----+----------+\n",
      "only showing top 20 rows\n",
      "\n"
     ]
    }
   ],
   "source": [
    "df_filtered.show()"
   ]
  },
  {
   "cell_type": "code",
   "execution_count": 5,
   "metadata": {},
   "outputs": [],
   "source": [
    "spark.stop()"
   ]
  },
  {
   "cell_type": "code",
   "execution_count": null,
   "metadata": {},
   "outputs": [],
   "source": []
  }
 ],
 "metadata": {
  "kernelspec": {
   "display_name": "penis",
   "language": "python",
   "name": "python3"
  },
  "language_info": {
   "codemirror_mode": {
    "name": "ipython",
    "version": 3
   },
   "file_extension": ".py",
   "mimetype": "text/x-python",
   "name": "python",
   "nbconvert_exporter": "python",
   "pygments_lexer": "ipython3",
   "version": "3.12.7"
  }
 },
 "nbformat": 4,
 "nbformat_minor": 2
}
